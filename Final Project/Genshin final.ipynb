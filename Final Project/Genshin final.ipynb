{
 "cells": [
  {
   "cell_type": "code",
   "execution_count": 7,
   "id": "b1055273",
   "metadata": {},
   "outputs": [],
   "source": [
    "import pandas as pd\n",
    "import seaborn as sns\n",
    "import matplotlib.pyplot as plt"
   ]
  },
  {
   "cell_type": "code",
   "execution_count": 14,
   "id": "5d31d988",
   "metadata": {
    "scrolled": true
   },
   "outputs": [
    {
     "name": "stdout",
     "output_type": "stream",
     "text": [
      "<class 'pandas.core.frame.DataFrame'>\n",
      "RangeIndex: 50 entries, 0 to 49\n",
      "Data columns (total 14 columns):\n",
      " #   Column             Non-Null Count  Dtype  \n",
      "---  ------             --------------  -----  \n",
      " 0   version            50 non-null     float64\n",
      " 1   version_name       50 non-null     object \n",
      " 2   start_date         50 non-null     object \n",
      " 3   end_date           50 non-null     object \n",
      " 4   5_star_characters  50 non-null     object \n",
      " 5   rerun              50 non-null     int64  \n",
      " 6   revenue            50 non-null     object \n",
      " 7   banner_days        50 non-null     int64  \n",
      " 8   avg_revenue        50 non-null     object \n",
      " 9   Unnamed: 9         0 non-null      float64\n",
      " 10  Unnamed: 10        0 non-null      float64\n",
      " 11  Unnamed: 11        0 non-null      float64\n",
      " 12  Unnamed: 12        0 non-null      float64\n",
      " 13  Unnamed: 13        0 non-null      float64\n",
      "dtypes: float64(6), int64(2), object(6)\n",
      "memory usage: 5.6+ KB\n"
     ]
    }
   ],
   "source": [
    "rev = pd.read_csv(\"Genshin charac rev (by charac).csv\")\n",
    "df = pd.read_csv(\"Genshin charac rev (by charac).csv\")\n",
    "rev.info()"
   ]
  },
  {
   "cell_type": "code",
   "execution_count": null,
   "id": "165108b0",
   "metadata": {},
   "outputs": [],
   "source": []
  }
 ],
 "metadata": {
  "kernelspec": {
   "display_name": "Python 3 (ipykernel)",
   "language": "python",
   "name": "python3"
  },
  "language_info": {
   "codemirror_mode": {
    "name": "ipython",
    "version": 3
   },
   "file_extension": ".py",
   "mimetype": "text/x-python",
   "name": "python",
   "nbconvert_exporter": "python",
   "pygments_lexer": "ipython3",
   "version": "3.9.13"
  }
 },
 "nbformat": 4,
 "nbformat_minor": 5
}
