{
 "cells": [
  {
   "cell_type": "code",
   "execution_count": null,
   "id": "fff66bf4",
   "metadata": {},
   "outputs": [],
   "source": [
    "pirates = {\n",
    "    \"Pirate\":[\"Blackbeard\", \"Anne Bonny\", \"Calico Jack\", \"Cheung Po Tsai\", \"Grace O'Malley\", \"Mary Read\", \"Sayyida al Hurra\", \"Ching Shih\", \"Sir Francis Drake\", \"Jean Lafittte\"],\n",
    "    \"Sex\":[\"M\", \"F\", \"M\", \"M\", \"F\", \"F\", \"F\", \"F\", \"M\", \"M\"],\n",
    "    \"Age at Death\":[40, 24, 37, 39, 73, 36, 75, 69, 56, 46],\n",
    "    \"Height\":[6.4, 5.6, 5.6, 5.3, 5.0, 5.1, 0.0, 5.3, 5.5, 6.2],\n",
    "    \"Skull and Crossbones\":[False, True, True, False, False, True, False, False, False, False]\n",
    "}"
   ]
  },
  {
   "cell_type": "code",
   "execution_count": 1,
   "id": "d9678905",
   "metadata": {},
   "outputs": [],
   "source": [
    "pirateColumn = {\n",
    "    \"Name\":[\"Edward Teach\",\"Anne Bonny\",\"John Rackham\", \"Cheung Po Tsai\", \"Grace O'Malley\", \"Mary Read\",\"Sayyida al Hurra\", \"Zheng Yi Sao\", \"Francis Drake\", \"Jean Lafitte\"],\n",
    "    \"Years Active\":[\"1716-1718\",\"1718-1720\",\"1718-1720\",\"1798-1810\",\"1564-1595\",\"1708-1721\",\"1515-1545\",\"1801-1810\",\"1563-1596\",\"1810-1823\"],\n",
    "    \"Sailed\":[\"Caribbean\",\"Caribbean\",\"Caribbean\",\"South China Sea\",\"British Isles\",\"Caribbean\",\"Mediterranean\",\"South China Sea\",\"Caribbean\",\"Gulf of Mexico\"],\n",
    "    \"Alias\":[\"Blackbeard\",\" \",\"Calico Jack\",\"The Kid\",\"Queen of Ireland\",\"Mark\",\"Hakimat Titwan\",\"Ching Shih\",\"Sir Francis Drake\", \"Terror of the Gulf\"],\n",
    "}\n"
   ]
  },
  {
   "cell_type": "code",
   "execution_count": 2,
   "id": "5a2b6ed3",
   "metadata": {},
   "outputs": [],
   "source": [
    "pirateRow = {\n",
    "    \"Edward Teach\":[\"1716-1718\",\"Caribbean\",\"Blackbeard\"],\n",
    "    \"Anne Bonny\":[\"1718-1720\",\"Caribbean\",\" \"],\n",
    "    \"John Rackham\":[\"1718-1720\",\"Caribbean\",\"Calico Jack\"],\n",
    "    \"Cheung Po Tsai\":[\"1798-1810\",\"South China Sea\",\"The Kid\"],\n",
    "    \"Grace O'Malley\":[\"1564-1695\",\"British Isles\",\"Queen of Ireland\"],\n",
    "    \"Mary Read\":[\"1708-1721\",\"Caribbean\",\"Mark\"],\n",
    "    \"Sayyida al Hurra\":[\"1515-1545\",\"Mediterranean\",\"Hakimat Titwan\"],\n",
    "    \"Zheng Yi Sao\":[\"1801-1810\",\"South China Sea\", \"Ching Shih\"],\n",
    "    \"Francis Drake\":[\"1563-1596\",\"Caribbean\",\"Sir Francis Drake\"],\n",
    "    \"Jean Lafitte\":[\"1810-1823\",\"Gulf of Mexico\",\"Terror of the Gulf\"],\n",
    "}"
   ]
  },
  {
   "cell_type": "code",
   "execution_count": 26,
   "id": "d7668910",
   "metadata": {},
   "outputs": [
    {
     "name": "stdout",
     "output_type": "stream",
     "text": [
      "Total pirates sailed in the Caribbean in the 18th century: 4\n"
     ]
    }
   ],
   "source": [
    "caribbeanCount = 0\n",
    "for i in range(len(pirateColumn[\"Sailed\"])):\n",
    "    if pirateColumn[\"Sailed\"][i] == \"Caribbean\":\n",
    "        yearsSep = pirateColumn[\"Years Active\"][i].split(\"-\")\n",
    "        for year in yearsSep:\n",
    "            yearInt = int(year)\n",
    "            if yearInt >= 1700 and yearInt < 1800:\n",
    "                caribbeanCount += 1\n",
    "                break\n",
    "print(\"Total pirates sailed in the Caribbean in the 18th century:\", caribbeanCount)\n",
    "\n",
    "      "
   ]
  },
  {
   "cell_type": "code",
   "execution_count": 19,
   "id": "961a631e",
   "metadata": {},
   "outputs": [
    {
     "name": "stdout",
     "output_type": "stream",
     "text": [
      "Pirate with the longest career: Francis Drake\n",
      "Years Active: 33\n"
     ]
    }
   ],
   "source": [
    "longestName = \"\"\n",
    "longestYears = 0\n",
    "for i in range(len(pirateColumn[\"Name\"])):\n",
    "    yearsActive = pirateColumn[\"Years Active\"][i]\n",
    "    startYear, endYear = map(int, yearsActive.split(\"-\"))\n",
    "    careerLength = endYear - startYear \n",
    "    \n",
    "    if careerLength > longestYears:\n",
    "        longestYears = careerLength\n",
    "        longestName = pirateColumn[\"Name\"][i]\n",
    "print(\"Pirate with the longest career:\", longestName)\n",
    "print(\"Years Active:\", longestYears)\n"
   ]
  },
  {
   "cell_type": "code",
   "execution_count": 23,
   "id": "60fe494b",
   "metadata": {},
   "outputs": [
    {
     "name": "stdout",
     "output_type": "stream",
     "text": [
      "Average years a pirate was active: 14.7\n"
     ]
    }
   ],
   "source": [
    "totalYearsActive = 0\n",
    "totalPirates = len(pirateColumn[\"Name\"])\n",
    "for yearsActive in pirateColumn[\"Years Active\"]:\n",
    "    startYear, endYear = map(int, yearsActive.split(\"-\"))\n",
    "    careerLength = endYear - startYear\n",
    "    totalYearsActive += careerLength\n",
    "averageYearsActive = totalYearsActive / totalPirates\n",
    "print(\"Average years a pirate was active:\", averageYearsActive)"
   ]
  },
  {
   "cell_type": "code",
   "execution_count": 30,
   "id": "85756a7f",
   "metadata": {},
   "outputs": [],
   "source": [
    "pirateColumn = {\n",
    "    \"Name\":[\"Edward Teach\",\"Anne Bonny\",\"John Rackham\", \"Cheung Po Tsai\", \"Grace O'Malley\", \"Mary Read\",\"Sayyida al Hurra\", \"Zheng Yi Sao\", \"Francis Drake\", \"Jean Lafitte\"],\n",
    "    \"Years Active\":[\"1716-1718\",\"1718-1720\",\"1718-1720\",\"1798-1810\",\"1564-1595\",\"1708-1721\",\"1515-1545\",\"1801-1810\",\"1563-1596\",\"1810-1823\"],\n",
    "    \"Sailed\":[\"Caribbean\",\"Caribbean\",\"Caribbean\",\"South China Sea\",\"British Isles\",\"Caribbean\",\"Mediterranean\",\"South China Sea\",\"Caribbean\",\"Gulf of Mexico\"],\n",
    "    \"Alias\":[\"Blackbeard\",\"  \",\"Calico Jack\",\"The Kid\",\"Queen of Ireland\",\"Mark\",\"Hakimat Titwan\",\"Ching Shih\",\"Sir Francis Drake\", \"Terror of the Gulf\"],\n",
    "    \"Sex\":[\"M\", \"F\", \"M\", \"M\", \"F\", \"F\", \"F\", \"F\", \"M\", \"M\"],\n",
    "    \"Age at Death\":[40, 24, 37, 39, 73, 36, 75, 69, 56, 46],\n",
    "    \"Height\":[6.4, 5.6, 5.6, 5.3, 5.0, 5.1, 0.0, 5.3, 5.5, 6.2],\n",
    "    \"Skull and Crossbones\":[False, True, True, False, False, True, False, False, False, False]\n",
    "}"
   ]
  }
 ],
 "metadata": {
  "kernelspec": {
   "display_name": "Python 3 (ipykernel)",
   "language": "python",
   "name": "python3"
  },
  "language_info": {
   "codemirror_mode": {
    "name": "ipython",
    "version": 3
   },
   "file_extension": ".py",
   "mimetype": "text/x-python",
   "name": "python",
   "nbconvert_exporter": "python",
   "pygments_lexer": "ipython3",
   "version": "3.9.13"
  }
 },
 "nbformat": 4,
 "nbformat_minor": 5
}
