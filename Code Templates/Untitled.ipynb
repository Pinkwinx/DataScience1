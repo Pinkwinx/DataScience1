{
 "cells": [
  {
   "cell_type": "code",
   "execution_count": 2,
   "id": "b1055273",
   "metadata": {},
   "outputs": [],
   "source": [
    "import pandas as pd\n",
    "import datetime as dt"
   ]
  },
  {
   "cell_type": "code",
   "execution_count": 3,
   "id": "dc77b94b",
   "metadata": {},
   "outputs": [
    {
     "data": {
      "text/html": [
       "<div>\n",
       "<style scoped>\n",
       "    .dataframe tbody tr th:only-of-type {\n",
       "        vertical-align: middle;\n",
       "    }\n",
       "\n",
       "    .dataframe tbody tr th {\n",
       "        vertical-align: top;\n",
       "    }\n",
       "\n",
       "    .dataframe thead th {\n",
       "        text-align: right;\n",
       "    }\n",
       "</style>\n",
       "<table border=\"1\" class=\"dataframe\">\n",
       "  <thead>\n",
       "    <tr style=\"text-align: right;\">\n",
       "      <th></th>\n",
       "      <th>Id</th>\n",
       "      <th>Calculator name</th>\n",
       "      <th>Brand name</th>\n",
       "      <th>Year made</th>\n",
       "      <th>Rechargeable</th>\n",
       "    </tr>\n",
       "  </thead>\n",
       "  <tbody>\n",
       "    <tr>\n",
       "      <th>0</th>\n",
       "      <td>1.0</td>\n",
       "      <td>TI-84 Plus CE\\n</td>\n",
       "      <td>Texas Instrument</td>\n",
       "      <td>January 2015</td>\n",
       "      <td>Yes</td>\n",
       "    </tr>\n",
       "    <tr>\n",
       "      <th>1</th>\n",
       "      <td>2.0</td>\n",
       "      <td>TI-84 Plus Silver</td>\n",
       "      <td>Texas Instrument</td>\n",
       "      <td>June 2004</td>\n",
       "      <td>No</td>\n",
       "    </tr>\n",
       "    <tr>\n",
       "      <th>2</th>\n",
       "      <td>3.0</td>\n",
       "      <td>TI-84 Plus C Silver\\n</td>\n",
       "      <td>Texas Instrument</td>\n",
       "      <td>2004</td>\n",
       "      <td>No</td>\n",
       "    </tr>\n",
       "    <tr>\n",
       "      <th>3</th>\n",
       "      <td>4.0</td>\n",
       "      <td>TI-84 Plus T</td>\n",
       "      <td>Texas Instrument</td>\n",
       "      <td>June 2004</td>\n",
       "      <td>No</td>\n",
       "    </tr>\n",
       "    <tr>\n",
       "      <th>4</th>\n",
       "      <td>5.0</td>\n",
       "      <td>TI-84 Plus CE-T</td>\n",
       "      <td>Texas Instrument</td>\n",
       "      <td>Spring 2015</td>\n",
       "      <td>Yes</td>\n",
       "    </tr>\n",
       "  </tbody>\n",
       "</table>\n",
       "</div>"
      ],
      "text/plain": [
       "   Id             Calculator name        Brand name     Year made Rechargeable\n",
       "0  1.0            TI-84 Plus CE\\n  Texas Instrument  January 2015          Yes\n",
       "1  2.0  TI-84 Plus Silver          Texas Instrument     June 2004           No\n",
       "2  3.0      TI-84 Plus C Silver\\n  Texas Instrument          2004           No\n",
       "3  4.0       TI-84 Plus T          Texas Instrument     June 2004           No\n",
       "4  5.0    TI-84 Plus CE-T          Texas Instrument   Spring 2015          Yes"
      ]
     },
     "execution_count": 3,
     "metadata": {},
     "output_type": "execute_result"
    }
   ],
   "source": [
    "df = pd.read_csv('Calculator Data.csv')\n",
    "df.head()"
   ]
  },
  {
   "cell_type": "code",
   "execution_count": null,
   "id": "5d31d988",
   "metadata": {},
   "outputs": [],
   "source": []
  }
 ],
 "metadata": {
  "kernelspec": {
   "display_name": "Python 3 (ipykernel)",
   "language": "python",
   "name": "python3"
  },
  "language_info": {
   "codemirror_mode": {
    "name": "ipython",
    "version": 3
   },
   "file_extension": ".py",
   "mimetype": "text/x-python",
   "name": "python",
   "nbconvert_exporter": "python",
   "pygments_lexer": "ipython3",
   "version": "3.9.13"
  }
 },
 "nbformat": 4,
 "nbformat_minor": 5
}
